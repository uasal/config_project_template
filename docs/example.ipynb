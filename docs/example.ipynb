{
 "cells": [
  {
   "cell_type": "markdown",
   "metadata": {},
   "source": [
    "# Example for usage of tools and configurations\n",
    "This notebook is an example of how simulation tools, configurations, and reporting can be done harmoniously if a common structure is established. <br>\n",
    "Note that this structure is commonly seen among large software teams that are constantly co-developing and producing/maintaining production code. <br>\n",
    "\n",
    "**This notebook represents a report that could be the artifact of an analysis informing science impact of a given parameter.**"
   ]
  },
  {
   "cell_type": "markdown",
   "metadata": {},
   "source": []
  },
  {
   "cell_type": "markdown",
   "metadata": {
    "vscode": {
     "languageId": "plaintext"
    }
   },
   "source": [
    "## Load dependencies"
   ]
  },
  {
   "cell_type": "code",
   "execution_count": 2,
   "metadata": {},
   "outputs": [],
   "source": [
    "# import stp_reference_data as stp_config  \n",
    "# import simulation_tool # Your simulation tool of choice\n",
    "\n",
    "# load dependencies for this report\n",
    "import pathlib\n",
    "import tomlkit\n",
    "from scipy.optimize import curve_fit\n",
    "import git\n",
    "import matplotlib.pyplot as plt\n",
    "import numpy as np\n",
    "import psd_utils"
   ]
  },
  {
   "cell_type": "markdown",
   "metadata": {},
   "source": [
    "Add a line the displays the version of the code being run"
   ]
  },
  {
   "cell_type": "code",
   "execution_count": null,
   "metadata": {},
   "outputs": [
    {
     "name": "stdout",
     "output_type": "stream",
     "text": [
      "np.__version__='1.26.4'\n"
     ]
    },
    {
     "ename": "AttributeError",
     "evalue": "module 'psd_utils' has no attribute '__version__'",
     "output_type": "error",
     "traceback": [
      "\u001b[0;31m---------------------------------------------------------------------------\u001b[0m",
      "\u001b[0;31mAttributeError\u001b[0m                            Traceback (most recent call last)",
      "Cell \u001b[0;32mIn[4], line 4\u001b[0m\n\u001b[1;32m      1\u001b[0m \u001b[38;5;66;03m# print(stp_config.__version__)\u001b[39;00m\n\u001b[1;32m      2\u001b[0m \u001b[38;5;66;03m# print(simulation_tool.__version__)\u001b[39;00m\n\u001b[1;32m      3\u001b[0m \u001b[38;5;28mprint\u001b[39m(\u001b[38;5;124mf\u001b[39m\u001b[38;5;124m'\u001b[39m\u001b[38;5;132;01m{\u001b[39;00mnp\u001b[38;5;241m.\u001b[39m__version__\u001b[38;5;132;01m=}\u001b[39;00m\u001b[38;5;124m'\u001b[39m)\n\u001b[0;32m----> 4\u001b[0m \u001b[38;5;28mprint\u001b[39m(\u001b[38;5;124mf\u001b[39m\u001b[38;5;124m'\u001b[39m\u001b[38;5;132;01m{\u001b[39;00mpsd_utils\u001b[38;5;241m.\u001b[39m__version__\u001b[38;5;132;01m=}\u001b[39;00m\u001b[38;5;124m'\u001b[39m)\n",
      "\u001b[0;31mAttributeError\u001b[0m: module 'psd_utils' has no attribute '__version__'"
     ]
    }
   ],
   "source": [
    "# print(stp_config.__version__)\n",
    "# print(simulation_tool.__version__)\n",
    "print(f'{np.__version__=}')\n",
    "print(f'{psd_utils.__version__=}') # package that isn't setup properly so it doesn't have a version file!"
   ]
  },
  {
   "cell_type": "markdown",
   "metadata": {},
   "source": [
    "For results that are to be repeated, you should also verify that the repositories being used have not been modified locally"
   ]
  },
  {
   "cell_type": "code",
   "execution_count": null,
   "metadata": {},
   "outputs": [],
   "source": [
    "path_to_cloned_repo = pathlib.Path('/path/to/stp_reference_data')\n",
    "repo = git.Repo(path_to_cloned_repo,search_parent_directories=True)\n",
    "dirty = repo.is_dirty()\n",
    "if dirty:\n",
    "    print('repo is dirty')"
   ]
  },
  {
   "cell_type": "markdown",
   "metadata": {},
   "source": [
    "## Load the configuration\n",
    "Baseline configurations should be stored in external packages so everyone can access them. They can also be used by CI processes that can automatically generate new reports or values and perform analyses when changes to inputs are performed.<br>\n",
    "Configurations could be stored inside packages (which can be imported) or as cloned repositories."
   ]
  },
  {
   "cell_type": "code",
   "execution_count": null,
   "metadata": {},
   "outputs": [],
   "source": [
    "import config_calculator as calc_config  # if it's a package"
   ]
  },
  {
   "cell_type": "markdown",
   "metadata": {},
   "source": [
    "or if it's a local repository"
   ]
  },
  {
   "cell_type": "code",
   "execution_count": null,
   "metadata": {},
   "outputs": [],
   "source": [
    "config_repo = pathlib.Path(\"/path/to/repo\")\n",
    "config_file = pathlib.Path(\"_baseline.toml\")\n",
    "# Load the configuration toml file as a dictionary\n",
    "calc_config = tomlkit.load(config_repo.join(config_file))"
   ]
  },
  {
   "cell_type": "markdown",
   "metadata": {},
   "source": [
    "In the case of an analysis, multiple configurations can be generated and passed into the analysis tool.<br>\n",
    "In this example let's consider changing a mirror temperature."
   ]
  },
  {
   "cell_type": "code",
   "execution_count": 13,
   "metadata": {},
   "outputs": [],
   "source": [
    "temperatures = [5,10,15, 20] # [Celsius]"
   ]
  },
  {
   "cell_type": "markdown",
   "metadata": {},
   "source": [
    "Loop over the variable being iterated upon and modify the configuration locally"
   ]
  },
  {
   "cell_type": "code",
   "execution_count": 40,
   "metadata": {},
   "outputs": [],
   "source": [
    "results={'temp':[],'sim_results':[],'config':[]}\n",
    "for t in temperatures:\n",
    "    calc_config[\"Temperature\"]=t\n",
    "    run_result = simulation_tool(config=calc_config)\n",
    "    results['config'].append(calc_config)\n",
    "    results['temp'].append(t)\n",
    "    results['sim_results'].append(run_result)"
   ]
  },
  {
   "cell_type": "code",
   "execution_count": 19,
   "metadata": {},
   "outputs": [
    {
     "name": "stdout",
     "output_type": "stream",
     "text": [
      "[5, 10, 15, 20]\n"
     ]
    }
   ],
   "source": [
    "print(results[\"temp\"])"
   ]
  },
  {
   "cell_type": "markdown",
   "metadata": {},
   "source": [
    "## Perform some analysis\n",
    "For example, one could fit a line to some result"
   ]
  },
  {
   "cell_type": "markdown",
   "metadata": {},
   "source": [
    "Define the function for a straight line "
   ]
  },
  {
   "cell_type": "code",
   "execution_count": 22,
   "metadata": {},
   "outputs": [],
   "source": [
    "def f(x, A, B): # this is your 'straight line' y=f(x)\n",
    "    return A*x + B"
   ]
  },
  {
   "cell_type": "code",
   "execution_count": null,
   "metadata": {},
   "outputs": [],
   "source": [
    "x=results['temp']\n",
    "y=results[\"sim_results\"][\"beaver_dams\"]"
   ]
  },
  {
   "cell_type": "code",
   "execution_count": 42,
   "metadata": {},
   "outputs": [
    {
     "name": "stderr",
     "output_type": "stream",
     "text": [
      "/var/folders/tn/c8b1spn5203g99yfgnhp6c740000h0/T/ipykernel_59228/4199506930.py:1: OptimizeWarning: Covariance of the parameters could not be estimated\n",
      "  popt, pcov = curve_fit(f, x, y) # your data x, y to fit\n"
     ]
    },
    {
     "data": {
      "text/plain": [
       "[<matplotlib.lines.Line2D at 0x12716d3a0>]"
      ]
     },
     "execution_count": 42,
     "metadata": {},
     "output_type": "execute_result"
    },
    {
     "data": {
      "image/png": "[encoded data removed]",
      "text/plain": [
       "<Figure size 640x480 with 1 Axes>"
      ]
     },
     "metadata": {},
     "output_type": "display_data"
    }
   ],
   "source": [
    "popt, pcov = curve_fit(f, x, y) # your data x, y to fit\n",
    "plt.plot(x,y,'x')\n",
    "plt.plot(np.float64(x),f(np.float64(x),popt[0],popt[1]),'-')"
   ]
  },
  {
   "cell_type": "markdown",
   "metadata": {},
   "source": [
    "## Report the take-home points in an obvious manner"
   ]
  },
  {
   "cell_type": "code",
   "execution_count": 46,
   "metadata": {},
   "outputs": [
    {
     "name": "stdout",
     "output_type": "stream",
     "text": [
      "The relationship between the temperature and beaver dams of demonstrates that climate change will increase beaver dams by 2.00 per degree Celsius rise in temperature.\n"
     ]
    }
   ],
   "source": [
    "print(f\"The relationship between the temperature and beaver dams of demonstrates that climate change will increase beaver dams by {popt[0]:0.2f} per degree Celsius rise in temperature.\")"
   ]
  }
 ],
 "metadata": {
  "kernelspec": {
   "display_name": "bending",
   "language": "python",
   "name": "python3"
  },
  "language_info": {
   "codemirror_mode": {
    "name": "ipython",
    "version": 3
   },
   "file_extension": ".py",
   "mimetype": "text/x-python",
   "name": "python",
   "nbconvert_exporter": "python",
   "pygments_lexer": "ipython3",
   "version": "3.12.7"
  }
 },
 "nbformat": 4,
 "nbformat_minor": 4
}
